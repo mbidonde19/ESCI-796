{
 "cells": [
  {
   "cell_type": "markdown",
   "id": "aaef60f3",
   "metadata": {},
   "source": [
    "# **Harmful Algal Bloom Occurence Rate Over Time**"
   ]
  },
  {
   "cell_type": "markdown",
   "id": "394ae571",
   "metadata": {},
   "source": [
    "## Introduction: \n",
    "    Harmful algal blooms result when excess nutrients (Phosphorous and Nitrogen) loading in water bodies combine with slow moving water to create blue green algae which combine into Harmful Algal Blooms (HABs). There are many different types of blooms. Almost all have a negative impact on the surrounding environment, and many can be harmful to humans.\n"
   ]
  },
  {
   "cell_type": "markdown",
   "id": "f1824a9a",
   "metadata": {},
   "source": [
    "## Hypothesis:\n",
    "    One of the main factors in HAB formation is energy availability. In the wake of climate change, nations have taken moves to curb emissions and lower global temperatures. Are these steps readily obvious when viewing HAB occurence rate? Evapotranspiration is another process reliant on water, would the rate of this over time over change? And how will the potential changes compare to those of the HABs? Energy is a major source needed in facilitating both ET and HAB occurence, so how might the rates of these compare over the years?"
   ]
  },
  {
   "cell_type": "markdown",
   "id": "545d969d",
   "metadata": {},
   "source": [
    "## Studied Site:\n",
    "    For this project, the state of New York will be looked at. To estimate ET, a USGS gauge and NOAA gauge near Little Falls, NY provide information on discharge and precipitation."
   ]
  },
  {
   "cell_type": "markdown",
   "id": "98dd7675",
   "metadata": {},
   "source": [
    "## Datasets: \n",
    "1. Harmful_Algal_Bloom_Statewide_Occurrence_Summary__2012-2018.csv - Compiled by State of New York, provides info on HAB occurences throughout the state for a certain time period. Gives info on where the HAB occurred, and how long it was on DEC watchlists for.\n",
    "\n",
    "2. 3263069.csv - A precipitation file from the USGS. Gives snow and precipitation data for a certain time period.\n",
    "\n",
    "3. Littlefalls.txt - A text file from NOAA. Gives discharge data for the Mohawk River near Little Falls, NY."
   ]
  },
  {
   "cell_type": "markdown",
   "id": "da18aa18",
   "metadata": {},
   "source": [
    "### Load in the data files\n",
    "Load and initially clean the data "
   ]
  },
  {
   "cell_type": "code",
   "execution_count": null,
   "id": "ee98c7db",
   "metadata": {
    "scrolled": true
   },
   "outputs": [],
   "source": [
    "# Load in libraries\n",
    "import pandas as pd\n",
    "from matplotlib import pyplot as plt\n",
    "import numpy as np\n",
    "#%% Load in HAB data\n",
    "# Load in the HAB data\n",
    "dfhab = pd.read_csv('HAB data.csv')\n",
    "\n",
    "#%% Load in discharge file\n",
    "# Drainage area flowing into gauge point\n",
    "drainage = 1342\n",
    "\n",
    "# Load in the file, set Date as index\n",
    "dfdis = pd.read_csv('Littlefalls.txt', comment = \"#\", delimiter='\\t', header = 1,\n",
    "                     parse_dates=['20d'], index_col=['20d'])\n",
    "\n",
    "# Drop unused columns\n",
    "dfdis.drop(columns = {\"5s\", \"15s\", \"10s\"}, inplace = True)\n",
    "\n",
    "# Fill in missing values\n",
    "dfdis.interpolate(method = 'linear')\n",
    "\n",
    "# Convert the discharge value\n",
    "dfdis[\"Discharge_mm\"] = (dfdis[\"14n\"]/drainage) * 26334720   #to mm/day\n",
    "\n",
    "# Drop old column\n",
    "dfdis.drop(columns = {\"14n\"}, inplace = True)\n",
    "\n",
    "#%% Load in precip file\n",
    "#Load in the file\n",
    "dfp = pd.read_csv('3263069.csv', parse_dates=['DATE'], index_col=['DATE'])\n",
    "\n",
    "# Fill missing values with 0\n",
    "dfp = dfp.fillna(0)\n",
    "\n",
    "# See if MDPR data exists\n",
    "if 'MDPR' in dfp.columns.tolist():\n",
    "     dfp['Combined'] = dfp['MDPR'] + dfp['PRCP']\n",
    "else:\n",
    "    dfp['Combined'] = dfp['PRCP']\n",
    "\n",
    "#Convert to mm\n",
    "dfp[\"Combined_Precip_mm\"] = dfp[\"Combined\"] * 25.4\n",
    "\n",
    "#Delete old dataframes\n",
    "dfp = dfp[['Combined_Precip_mm']]\n",
    "\n",
    "#%% Initial Plots\n",
    "\n",
    "fig1, ax1 = plt.subplots()\n",
    "ax1.bar(dfhab.index, dfhab['Number of Weeks on DEC Notification List'], label = 'Weeks on DEC List')\n",
    "\n",
    "fig2, ax2 = plt.subplots()\n",
    "ax2.bar(dfdis.index, dfdis['Discharge_mm'], label = 'Discharge (mm)')\n",
    "ax2.set_title('Discharge')\n",
    "\n",
    "fig3, ax3 = plt.subplots()\n",
    "ax3.bar(dfp.index, dfp['Combined_Precip_mm'], label = 'Precip (mm)',)\n",
    "ax3.set_title('Combined Precipitation')"
   ]
  },
  {
   "cell_type": "markdown",
   "id": "e4b8c669",
   "metadata": {},
   "source": [
    "## Analysis:\n",
    "-   Some sort of function or other means of seperating the HAB data by lakes, and create a plot w/ multiple subplots showing HAB occurence over time for various lakes\n",
    "\n",
    "-   Compare the total number of weeks HABs were on DEC watchlists per year, compare increases\n",
    "\n",
    "-  PLot discharge, precip, and DEC watchlist data, in theory increased precip leads to increased HAB rate, discharge less so indicative of HABs just helpful to see water movement in the area. Can compare trends\n",
    "\n",
    "-  Plots for monthly HAB occurence by lake and overall, to identify seasonality and any changes within\n",
    "\n",
    "-  Can use precip and discharge to estimate ET, indicative of energy rates which is another major component of HAB rate\n",
    "\n",
    "-  Can also add the ET to any of the plots and observe any potential overlaps in the rates\n",
    "    "
   ]
  },
  {
   "cell_type": "markdown",
   "id": "6995cbfc",
   "metadata": {},
   "source": [
    "## Discussion:\n",
    "HABs can be toxic to humans, and at the minimum their occurence in drinking water sources can cause shutdowns and inconviences to the public, along with shutting down local recreational areas. Expound on the impacts (economic, social, environmental)\n",
    "\n",
    "Then can go into detail discussing results. If positive, can identify any potential measures that have been taken in NY or nationally that could potentially explain these (either measure targetting HABS directly, or sources such as energy influx or nutrient influx), these measures also should probably be referenced first in the hypothesis or introduction. If negative, explain why any potential measures aren't working. If no measures were found, try and identify why the results appear negative, and maybe brainstorm any measures that could be taken to deal with the identified apparent cause. If the results are inconclusive (varying or differing rates in HAB occurence, precip, or discharge, for example) explain what is explainable, try to explain reasons why other results may be inconclusive\n",
    "\n",
    "Regardless of the results, the limitations will need to be discussed. HABs throughout the state of NY were analyzed, but precip and discharge data was only looked at for a single site. These are intended to charecterize the ET and water movement, but there are issues with using it for the whole state. The HAB data only goes back to 2012, and the practices that led to the increase in HAB occurence was very likely before that, so the complete picture on HAB data is likely not available."
   ]
  },
  {
   "cell_type": "code",
   "execution_count": null,
   "id": "4b361d73",
   "metadata": {},
   "outputs": [],
   "source": []
  }
 ],
 "metadata": {
  "kernelspec": {
   "display_name": "Python 3 (ipykernel)",
   "language": "python",
   "name": "python3"
  },
  "language_info": {
   "codemirror_mode": {
    "name": "ipython",
    "version": 3
   },
   "file_extension": ".py",
   "mimetype": "text/x-python",
   "name": "python",
   "nbconvert_exporter": "python",
   "pygments_lexer": "ipython3",
   "version": "3.9.13"
  }
 },
 "nbformat": 4,
 "nbformat_minor": 5
}
